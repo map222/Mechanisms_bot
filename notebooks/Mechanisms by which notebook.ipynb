{
 "cells": [
  {
   "cell_type": "markdown",
   "metadata": {},
   "source": [
    "### To do:\n",
    "Percent of sentences with however\n",
    "\n",
    "Maximum sentence\n",
    "\n",
    "Percent that end with unclear"
   ]
  },
  {
   "cell_type": "code",
   "execution_count": 3,
   "metadata": {
    "collapsed": false
   },
   "outputs": [],
   "source": [
    "import numpy as np\n",
    "import pdb\n",
    "from Mechanisms_bot.src import pubmed_io\n",
    "import Mechanisms_bot.tweet_mechanism as test_tweet\n",
    "from Mechanisms_bot.src import abstract_parser \n",
    "import importlib\n",
    "import pickle"
   ]
  },
  {
   "cell_type": "code",
   "execution_count": 46,
   "metadata": {
    "collapsed": false
   },
   "outputs": [
    {
     "data": {
      "text/plain": [
       "100"
      ]
     },
     "execution_count": 46,
     "metadata": {},
     "output_type": "execute_result"
    }
   ],
   "source": [
    "pubmed_ids = pubmed_io.get_pubmed_ids(100)\n",
    "len(pubmed_ids)"
   ]
  },
  {
   "cell_type": "code",
   "execution_count": 48,
   "metadata": {
    "collapsed": false
   },
   "outputs": [
    {
     "data": {
      "text/plain": [
       "100"
      ]
     },
     "execution_count": 48,
     "metadata": {},
     "output_type": "execute_result"
    }
   ],
   "source": [
    "pubmed_abstracts = pubmed_io.get_pubmed_abstracts( pubmed_ids)\n",
    "len(pubmed_abstracts)"
   ]
  },
  {
   "cell_type": "markdown",
   "metadata": {},
   "source": [
    "Pubmed returns an XML. It is structured PubmedArticleList / PubmedArticle / MedlineCitation. MedlineCitation has children: PMID, and Article\n",
    "\n",
    "Article has children: Journal, ArticleTitle, and Abstract\n",
    "\n",
    "Abstract has child: AbstractText"
   ]
  },
  {
   "cell_type": "code",
   "execution_count": 56,
   "metadata": {
    "collapsed": false
   },
   "outputs": [
    {
     "data": {
      "text/plain": [
       "27"
      ]
     },
     "execution_count": 56,
     "metadata": {},
     "output_type": "execute_result"
    }
   ],
   "source": [
    "good_sent = list(map(abstract_parser.get_mech_sent, pubmed_abstracts, pubmed_ids) )\n",
    "good_sent = [x for x in good_sent if x['mech_sent']]\n",
    "len(good_sent)"
   ]
  },
  {
   "cell_type": "markdown",
   "metadata": {
    "collapsed": true
   },
   "source": [
    "# Tweeting!"
   ]
  },
  {
   "cell_type": "code",
   "execution_count": 36,
   "metadata": {
    "collapsed": false
   },
   "outputs": [
    {
     "name": "stderr",
     "output_type": "stream",
     "text": [
      "INFO:Mechanisms_bot.tweet_mechanism:Getting recent papers\n",
      "INFO:Mechanisms_bot.tweet_mechanism:Got 100 recent PubMed IDs\n",
      "INFO:Mechanisms_bot.tweet_mechanism:Getting abstracts\n",
      "INFO:Mechanisms_bot.tweet_mechanism:Downloaded 100 abstracts\n",
      "INFO:Mechanisms_bot.tweet_mechanism:Found 27 mechanisms sentences\n"
     ]
    },
    {
     "name": "stdout",
     "output_type": "stream",
     "text": [
      "> c:\\users\\me\\documents\\github\\mechanisms_bot\\src\\twitter_io.py(23)tweet_new_sentence()\n",
      "-> twitter_api.update_status(cur_sent['mech_sent'][:115] + ' ' + pubmed_url.format(cur_sent['PMID']))\n",
      "(Pdb) c\n"
     ]
    },
    {
     "data": {
      "text/plain": [
       "([{'PMID': '26745856',\n",
       "   'mech_sent': 'Air pollution has been associated with increased prevalence of type-2 diabetes, however, the mechanisms remain unknown.'},\n",
       "  {'PMID': '26745853',\n",
       "   'mech_sent': 'However, the molecular mechanism of FPD/MM remains unknown.'},\n",
       "  {'PMID': '26745809',\n",
       "   'mech_sent': 'However, the molecular mechanism by which ethylene decreases root growth via ASA1 is not understood.'},\n",
       "  {'PMID': '26745805',\n",
       "   'mech_sent': 'However, the effectiveness of BoNT⁄A for pain alleviation and the mechanisms that mediate the analgesic effects of BoNT⁄A remain unclear.'},\n",
       "  {'PMID': '26745678',\n",
       "   'mech_sent': 'Tyrosine kinase inhibitors (TKIs) targeting the epidermal growth factor receptor (EGFR) have shown promising clinical efficacy in non-squamous non-small cell lung cancer (NSCLC); however, resistance is frequently observed in malignant cells, operating through a mechanism that remains largely unknown.'},\n",
       "  {'PMID': '26745603',\n",
       "   'mech_sent': 'The specific regulatory mechanism of miR-let-7a to PKM2 in gastric cancer is still unclear.'},\n",
       "  {'PMID': '26745527',\n",
       "   'mech_sent': 'Correct localization is essential for lipoprotein function, yet the mechanisms by which this occurs are not yet fully understood.'},\n",
       "  {'PMID': '26745502',\n",
       "   'mech_sent': 'However, the mechanisms by which H. pylori induces gastric cancer are not completely understood.'},\n",
       "  {'PMID': '26745484',\n",
       "   'mech_sent': 'CONCLUSIONS These results suggest that reduced integrity of the endothelial wall, as conferred by ADAMTS variants, together with inflammatory processes and defective vascular remodeling plays an important role in CA pathogenesis, although the mechanism of action remains unknown.'},\n",
       "  {'PMID': '26745481',\n",
       "   'mech_sent': 'Also, the pathophysiological mechanism of sound perception in patients with VPT remains poorly understood.'},\n",
       "  {'PMID': '26745327',\n",
       "   'mech_sent': 'The mechanisms underlying sexual reproduction and sex ratio determination remains unclear in turbot, a flatfish of great commercial value.'},\n",
       "  {'PMID': '26745299',\n",
       "   'mech_sent': 'The potential for hydraulic fracturing to induce contaminant pathways in groundwater is not well understood since gas wells are completed while isolating the water table and the gas-bearing reservoirs lay thousands of feet below the water table.'},\n",
       "  {'PMID': '26745038',\n",
       "   'mech_sent': 'The mechanism that explains how insulin resistance is associated with CRC is complex and not fully understood.'},\n",
       "  {'PMID': '26745029',\n",
       "   'mech_sent': 'Among halogen species, the sources and emission mechanisms of inorganic iodine compounds in the polar boundary layer remain unknown.'},\n",
       "  {'PMID': '26744595',\n",
       "   'mech_sent': 'However, the causes of asthma and the underlying mechanisms are not fully understood.'},\n",
       "  {'PMID': '26744531',\n",
       "   'mech_sent': 'However, the underlying mechanisms are poorly understood.'},\n",
       "  {'PMID': '26744469',\n",
       "   'mech_sent': 'While it is common for IBS to develop following the resolution of infectious gastroenteritis (then termed Post-Infectious-IBS), the mechanisms remain incompletely understood.'},\n",
       "  {'PMID': '26744468',\n",
       "   'mech_sent': 'Mice with whole-body FXR deficiency develop liver tumors spontaneously, but the underlying mechanism is unclear.'},\n",
       "  {'PMID': '26744420',\n",
       "   'mech_sent': 'Although PTIP is a unique component of the mixed-lineage leukemia 3 (MLL3)/MLL4 chromatin-modifying complex, the mechanisms for how PTIP promotes transcription remain unclear.'},\n",
       "  {'PMID': '26744383',\n",
       "   'mech_sent': 'Nevertheless, whether HMGB1 can modulate osteoblast proliferation and migration is poorly understood, as well as the intracellular signaling pathways that are involved in this process.'},\n",
       "  {'PMID': '26744317',\n",
       "   'mech_sent': 'Although breast cancer is one of the most common malignancies, the molecular mechanisms underlying its development and progression are not fully understood.'},\n",
       "  {'PMID': '26744233',\n",
       "   'mech_sent': 'During embryogenesis, a rise in intracellular Ca(2+) is known to be a widespread trigger for directing stem cells towards a specific tissue fate, but the precise Ca(2+) signalling mechanisms involved in achieving these pleiotropic effects are still poorly understood.'},\n",
       "  {'PMID': '26744217',\n",
       "   'mech_sent': 'The biochemical and expression data together indicate that Bayberry surface glycerolipids are synthesized by a previously unknown pathway for TAG synthesis that is related to cutin biosynthesis.'},\n",
       "  {'PMID': '26744175',\n",
       "   'mech_sent': 'A relationship between stress and the symptoms of irritable bowel syndrome (IBS) has been well established but the cellular mechanisms are poorly understood.'},\n",
       "  {'PMID': '26744142',\n",
       "   'mech_sent': 'BACKGROUND Multiple microRNAs (miRNAs, miRs), including miR-21, have been documented to be critical regulators of liver regeneration, but the mechanism underlying their roles in hepatocyte proliferation and cell cycle progression is still far from understood.'},\n",
       "  {'PMID': '26744093',\n",
       "   'mech_sent': 'The mechanisms of sudden death in chronic kidney disease (CKD) remain unclear.'},\n",
       "  {'PMID': '26744063',\n",
       "   'mech_sent': 'However, the mechanism of p10 degradation and its relevance are still unclear.'}],\n",
       " [{'PMID': '26745856',\n",
       "   'mech_sent': 'Air pollution has been associated with increased prevalence of type-2 diabetes, however, the mechanisms remain unknown.'},\n",
       "  {'PMID': '26745853',\n",
       "   'mech_sent': 'However, the molecular mechanism of FPD/MM remains unknown.'},\n",
       "  {'PMID': '26745809',\n",
       "   'mech_sent': 'However, the molecular mechanism by which ethylene decreases root growth via ASA1 is not understood.'},\n",
       "  {'PMID': '26745805',\n",
       "   'mech_sent': 'However, the effectiveness of BoNT⁄A for pain alleviation and the mechanisms that mediate the analgesic effects of BoNT⁄A remain unclear.'},\n",
       "  {'PMID': '26745678',\n",
       "   'mech_sent': 'Tyrosine kinase inhibitors (TKIs) targeting the epidermal growth factor receptor (EGFR) have shown promising clinical efficacy in non-squamous non-small cell lung cancer (NSCLC); however, resistance is frequently observed in malignant cells, operating through a mechanism that remains largely unknown.'}])"
      ]
     },
     "execution_count": 36,
     "metadata": {},
     "output_type": "execute_result"
    }
   ],
   "source": [
    "importlib.reload(test_tweet)\n",
    "test_tweet.main();"
   ]
  },
  {
   "cell_type": "code",
   "execution_count": null,
   "metadata": {
    "collapsed": true
   },
   "outputs": [],
   "source": []
  }
 ],
 "metadata": {
  "kernelspec": {
   "display_name": "Python 3",
   "language": "python",
   "name": "python3"
  },
  "language_info": {
   "codemirror_mode": {
    "name": "ipython",
    "version": 3
   },
   "file_extension": ".py",
   "mimetype": "text/x-python",
   "name": "python",
   "nbconvert_exporter": "python",
   "pygments_lexer": "ipython3",
   "version": "3.4.3"
  }
 },
 "nbformat": 4,
 "nbformat_minor": 0
}
