{
 "cells": [
  {
   "cell_type": "code",
   "execution_count": 119,
   "metadata": {
    "collapsed": true
   },
   "outputs": [],
   "source": [
    "import requests\n",
    "import re\n",
    "from xml.etree import ElementTree\n",
    "import numpy as np"
   ]
  },
  {
   "cell_type": "code",
   "execution_count": 96,
   "metadata": {
    "collapsed": false
   },
   "outputs": [],
   "source": [
    "base_url = 'http://eutils.ncbi.nlm.nih.gov/entrez/eutils/e{}.fcgi'\n",
    "pubmed_dict = {'db':'pubmed', 'retmode':'json', 'field':'abstract', 'retmax':500,\n",
    "              'term':'pathways OR mechanism OR mechanisms OR pathway OR underpinnings AND understood OR unclear OR unknown'}"
   ]
  },
  {
   "cell_type": "code",
   "execution_count": 97,
   "metadata": {
    "collapsed": false
   },
   "outputs": [],
   "source": [
    "pubmed_json = requests.get(base_url.format('search'), params=pubmed_dict).json()"
   ]
  },
  {
   "cell_type": "code",
   "execution_count": 98,
   "metadata": {
    "collapsed": false
   },
   "outputs": [
    {
     "data": {
      "text/plain": [
       "500"
      ]
     },
     "execution_count": 98,
     "metadata": {},
     "output_type": "execute_result"
    }
   ],
   "source": [
    "pubmed_ids = pubmed_json['esearchresult']['idlist']\n",
    "len(pubmed_ids)"
   ]
  },
  {
   "cell_type": "code",
   "execution_count": 99,
   "metadata": {
    "collapsed": false
   },
   "outputs": [],
   "source": [
    "#abstract_dict = {'db':'pubmed', 'retmode':'text', # only return mode option is text\n",
    "#                 'rettype':'abstract',\n",
    "#              'id':pubmed_ids}\n",
    "abstract_dict = {'db':'pubmed', 'retmode':'xml', # only return mode option is text\n",
    "              'id':','.join(pubmed_ids)}\n",
    "pubmed_xml = requests.get(base_url.format('fetch'), params=abstract_dict)"
   ]
  },
  {
   "cell_type": "markdown",
   "metadata": {},
   "source": [
    "Pubmed returns an XML. It is structured PubmedArticleList / PubmedArticle / MedlineCitation. MedlineCitation has children: PMID, and Article\n",
    "\n",
    "Article has children: Journal, ArticleTitle, and Abstract\n",
    "\n",
    "Abstract has child: AbstractText"
   ]
  },
  {
   "cell_type": "code",
   "execution_count": 100,
   "metadata": {
    "collapsed": false
   },
   "outputs": [],
   "source": [
    "pubmed_tree = ElementTree.fromstring(pubmed_xml.text)"
   ]
  },
  {
   "cell_type": "code",
   "execution_count": 101,
   "metadata": {
    "collapsed": false
   },
   "outputs": [
    {
     "data": {
      "text/plain": [
       "1000"
      ]
     },
     "execution_count": 101,
     "metadata": {},
     "output_type": "execute_result"
    }
   ],
   "source": [
    "abstracts = [ abstract.text for abstract in pubmed_tree.findall('./PubmedArticle/MedlineCitation/Article/Abstract/AbstractText')]\n",
    "len(abstracts)"
   ]
  },
  {
   "cell_type": "code",
   "execution_count": 78,
   "metadata": {
    "collapsed": false
   },
   "outputs": [],
   "source": [
    "from nltk.tokenize import sent_tokenize, word_tokenize"
   ]
  },
  {
   "cell_type": "code",
   "execution_count": 125,
   "metadata": {
    "collapsed": false
   },
   "outputs": [],
   "source": [
    "def get_mech_sent(cur_abstract):\n",
    "    mech_words = {'mechanism', 'mechanisms', 'pathway', 'pathways', 'underpinnings'}\n",
    "    understood_words = {'understood', 'unknown', 'unclear'}\n",
    "    cur_sents = sent_tokenize(cur_abstract)\n",
    "    mech_sent = [sent for sent in cur_sents if mech_words.intersection(set(  word_tokenize(sent) ))]\n",
    "    understood_sent = [sent for sent in mech_sent if understood_words.intersection(set(  word_tokenize(sent) ))]\n",
    "    understood_sent = [x for x in understood_sent if x]\n",
    "    return understood_sent"
   ]
  },
  {
   "cell_type": "code",
   "execution_count": 126,
   "metadata": {
    "collapsed": false
   },
   "outputs": [],
   "source": [
    "good_sent = list(filter(len, map(get_mech_sent, abstracts) ))\n",
    "good_sent = np.array([x[0] for x in good_sent])"
   ]
  },
  {
   "cell_type": "code",
   "execution_count": 127,
   "metadata": {
    "collapsed": false
   },
   "outputs": [
    {
     "data": {
      "text/plain": [
       "array([ 'The underlying mechanisms are not fully understood but include impaired mucociliary clearance and structural remodeling of the airways.',\n",
       "       'Nonetheless, the mechanisms of polarization and strain coupling between grains of different nature in the composites remain unclear.',\n",
       "       'Previous studies have demonstrated that VEGF affects bone repair and regeneration; however, the cellular mechanisms by which it works are not fully understood.',\n",
       "       'The underlying mechanisms of apoptosis in HSCs, however, are unknown under consideration of HBV infection.',\n",
       "       'However, the mechanism of non-leaking CME has been unclear.',\n",
       "       'The mechanism of how HSP90 inhibition leads to clearance of misfolded proteins is not fully understood.',\n",
       "       'Context Ginseng is a widely used herbal medicine in China but its mechanism of action remains unclear.',\n",
       "       'Because the brain mechanisms that underlie these two attention processes are poorly understood, we recorded local field potentials (LFPs) from primary visual cortical areas of cats as they performed stimulus-driven and anticipatory discrimination tasks.',\n",
       "       'Context It has been found that hydroxysafflor-yellow A (HSYA) inhibits angiogenesis and the proliferation of abnormal human umbilical vein endothelial cells (HUVECs) in our previous study; however, the mechanism is still unclear.',\n",
       "       'The mechanism by which CT infection enhances HIV susceptibility at this site, however, is not well understood.',\n",
       "       'The genetic mechanisms underlying the developmental and functional specification of brainstem projection neurons are poorly understood.',\n",
       "       'Whereas the mechanisms by which such insults promote temporal lobe epilepsy are unknown, an extensive body of work has implicated inflammation and inflammatory mediators in both human and animal models of the disorder.',\n",
       "       'The proximate mechanisms underlying these behaviours are only just beginning to be understood.',\n",
       "       'However, the mechanism of beta-amyloid clearance along peri-arterial pathways in the brain is not well understood.',\n",
       "       'However, the mechanisms linking oxidative stress and carcinogenesis in CCC currently remain unclear.',\n",
       "       'However, the molecular mechanism by which resistin acts is not fully understood.',\n",
       "       'Though self-assembly can generate functional tissues, most notably neocartilage, the mechanisms of self-assembly remain unclear.',\n",
       "       'The molecular mechanisms responsible for TBI-induced injury, however, are unclear.',\n",
       "       'Stress exacerbates symptoms of bladder dysfunction including overactive bladder and bladder pain syndrome, but the underlying mechanisms are unknown.',\n",
       "       'The mechanisms involved in their recognition by c-MYC are unknown.',\n",
       "       'However, the biosynthetic pathway of gentamicin B remains unclear.',\n",
       "       'However, the mechanisms underlying the distinct role of KLF4 remain poorly understood.',\n",
       "       'As an important neurotrophic factor, the secretion of endogenous basic fibroblast growth factor (bFGF) contributes to the protective effect of neuronal cells, but the mechanism of bFGF in reactive astrogliosis is still unclear.',\n",
       "       'However, the precise regulatory mechanism of sFlt-1 production is unknown.',\n",
       "       'Objective Greater acculturation is associated with adverse perinatal outcomes in Mexican-American women, but the mechanisms by which acculturation influences perinatal outcomes are unclear.',\n",
       "       'Positive transcription elongation factor b (P-TEFb), a complex of Cdk9 and cyclin T1, promotes release of paused Pol II into elongation, but the precise mechanisms and targets of Cdk9 action remain largely unknown.',\n",
       "       'The mechanisms responsible for Zn accumulation and the consequence of Zn dysregulation are poorly understood.',\n",
       "       'Although juvenile hormone (JH) is known to prevent insect larval metamorphosis and stimulate adult reproduction, the molecular mechanisms of JH action in insect reproduction remain largely unknown.',\n",
       "       'Unlike most other bacterial pathogens, T. pallidum infection produces indeed a strong angiogenic response whose mechanism of activation, however, remains unknown.',\n",
       "       'Emerging evidence suggests nuclear forms of LC3 are also functionally important; however, the mechanisms that facilitate the nuclear targeting and trafficking of LC3 between the nucleus and cytoplasm under steady state conditions are poorly understood.',\n",
       "       'This resistance is often encoded on mobile plasmids such as pSK41; however, the mechanism of transfer of these plasmids is not well understood.',\n",
       "       'Inappropriately activated mineralocorticoid receptor (MR) is a risk factor for vascular remodeling with unclear molecular mechanism.',\n",
       "       'Although the mechanisms of action of these hormones have been elucidated, the possible molecular mechanisms causing atrophy are not yet fully understood.',\n",
       "       'Vaccines have been used for decades, yet efficacy is controversial and mechanisms of protective immunity are not well understood.',\n",
       "       'Although it is evident that these contractions are Ca2+-dependent, detailed molecular mechanisms are still unknown.',\n",
       "       'While the mechanisms underlying TT aphrodisiac activity remain largely unknown, there is emerging compelling evidence from experimental studies in animals for possible endothelium and nitric oxide-dependent mechanisms underlying TT aphrodisiac and pro-erectile activities.',\n",
       "       'The mechanisms that drive distinct post-translational modifications, cofactor recruitment and target-gene activation for specific HSF paralogs are unknown.',\n",
       "       'The DNA lesion is repaired with human 8-oxoguanine glycosylase 1 (hOGG1) base-excision repair enzyme, however, the exact mechanism of excision of damaged nucleobase with hOGG1 is currently unknown.',\n",
       "       'Bacterial Nav channels have been characterized as functionally asymmetric, and the mechanism of this asymmetry has not been clearly understood.',\n",
       "       'These results indicate that the potential beneficial effects of reducing EET degradation were obliterated by a thus far unknown mechanism leading to kidney-specific up-regulation of 20-HETE formation in sEH-KO-mice.',\n",
       "       'However, the mechanism underlying the explosive evolution of hundreds of varieties of B. oleracea and B. rapa within a short period is poorly understood.',\n",
       "       'Currently, the exact mechanism involved in migration and adhesion of hMSCs remains unknown.',\n",
       "       'The ATX/LPA pathway in adipose tissue has recently been implicated in obesity and insulin resistance in animal models, but the role of circulating ATX in humans remains unclear.',\n",
       "       'Nevertheless, the organisms and mechanisms that are responsible for anaerobic MTBE degradation are still unknown.',\n",
       "       'The causal mechanism is unknown.',\n",
       "       'The mechanisms of such plasticity are not completely understood but recent animal studies show it can be blocked by administering ibuprofen, a nonsteroidal anti-inflammatory drug, during chronic hypoxia.',\n",
       "       'The signaling pathway through which fortilin protects cells against ROS-induced cell death, however, is unknown.',\n",
       "       'Studies of repertoires of mouse monoclonal CD4(+) T cells have revealed several mechanisms of self-tolerance; however, which mechanisms operate in normal repertoires is unclear.',\n",
       "       'Although the precise mechanism of IM-GAVE is not understood, all patients took at least 400 mg/day of IM at the onset of GAVE.',\n",
       "       'Although the mechanisms by which RNA is targeted to (or escapes from) the exosome are still not fully understood, general principles have begun to emerge, which we discuss in this Review.',\n",
       "       'However, the anti-bacterial mechanism and therapeutic efficiency of KGR for intracellular Brucella infection are still unclear.',\n",
       "       'However, the molecular mechanism that underlies how the PH domain of Lpd specifically gets recruited to phosphatidylinositols remains unclear.',\n",
       "       'It has a circular RNA genome that is the smallest of human viruses, requires the HBsAg capsid of the hepatitis B virus to assembly into infectious virions, parasitizes the transcriptional machinery of the host by hijacking cellular RNA polymerases to replicate its RNA genome and is replicated by a rolling circle mechanism unknown to mammalian cells.',\n",
       "       'While a distinct set of processes drive metastasis when compared to tumorigenesis, it is yet unclear if genetic alterations in metabolic pathways are associated with metastatic progression of human cancers.',\n",
       "       'How long non-coding RNAs (lncRNAs) participate in the regulation of an abnormal pathway crosstalk in human cancer is largely unknown.',\n",
       "       'Previous studies indicated that lipids may be associated with abdominal aortic aneurysm (AAA); however the molecular mechanism involved is unclear.',\n",
       "       'However, the tumor-suppressor mechanisms of SOCS1 are not yet well understood.',\n",
       "       'However, the detailed mechanism is unclear.',\n",
       "       'More than 85% of advanced breast cancer patients suffer from metastatic bone lesions, yet the mechanisms that facilitate these metastases remain poorly understood.',\n",
       "       \"The pathophysiological mechanisms leading to dyskinesias in Parkinson's disease (PD) after long-term treatment with levodopa remain unclear.\",\n",
       "       'While uptake and processing of hemoglobin by tick gut cells have been studied in detail, molecular mechanisms of host serum albumin degradation remain unknown.',\n",
       "       'The deletion of PHO13 (pho13Δ) in Saccharomyces cerevisiae, encoding a phosphatase enzyme of unknown specificity, results in the transcriptional activation of genes related to the pentose phosphate pathway (PPP) such as TAL1 encoding transaldolase.',\n",
       "       'However, the chemical constituents of FFBJ and the absorption and distribution of it in vivo remain unclear, which restricts its research on bioactive components identification and mechanisms of action.',\n",
       "       'The mechanism involved in this loss of gap junction plaques during mitosis is unclear but we hypothesize that an endoexocytotic mechanism that results in cytoplasmic double-membraned annular gap junction vesicles is involved.',\n",
       "       'However, the molecular mechanisms underlying the interplay between O. heveae and rubber trees remain largely unknown.',\n",
       "       'Exercise may be one of the most effective and sound therapies for stroke; however, the mechanisms underlying the curative effects remain unclear.',\n",
       "       'Nuclear factor-κB (NF-κB) signalling mechanisms provide central controls in SS, but how these pathways intersect the pathological features of this disease is unclear.',\n",
       "       'Although the detailed mechanisms of RAGE contribution to the neurodegeneration remains unclear, studies indicate that RAGE detrimental actions are exerted via its binding to the pro-inflammatory ligands such as Advanced Glycation End-products, S100/calgranulin and amphoterin and subsequent activation of downstream regulatory pathways such as NF-kB, STAT and JKN pathways.',\n",
       "       'Since pressure alternans occurs simultaneously with MTWA and has a higher signal to noise ratio, it may be a better predictor of arrhythmia, although the mechanism remains unknown.',\n",
       "       'It remains unclear how the mechanisms in the used strains differ.',\n",
       "       'Although recent studies infer that calcineurin is activated by local and transient Ca(2+) signals the molecular mechanism that underlies the process is unclear in ventricular myocytes.',\n",
       "       'However, the precise mechanisms by which in situ amorphisation occurs are often not fully understood.',\n",
       "       'Despite decades of research, effectors involved in gall induction and basic mechanisms of gall formation remain unknown.',\n",
       "       'The use of injectable progestin-only contraceptives has been associated with increased risk of HIV acquisition in observational studies, but the biological mechanisms of this risk remain poorly understood.',\n",
       "       'The proinflammatory cytokines, especially tumor necrosis factor alpha (TNF-α), have been shown to inhibit osteogenic differentiation of mesenchymal stem cells (MSCs) and bone formation in estrogen deficiency-induced osteoporosis, but the mechanisms of TNF-α impaired bone formation remains poorly understood.',\n",
       "       'Although there is a documented social gradient for osteoporosis, the underlying mechanism(s) for that gradient remain unknown.',\n",
       "       'While the genetic and molecular underpinnings of the disease are poorly understood, variations in genes encoding synaptic pathways are consistently implicated.',\n",
       "       'Despite the importance of this issue, the molecular mechanisms and genes implicated in resistance/susceptibility are only scarcely understood.',\n",
       "       'The cholagogic effect of Gardenia jasminoides Ellis (Rubiaceae) and GPA have been widely reported, but the underlying occurrence mechanism remains unclear.',\n",
       "       'A documented side effect of this diabetes drug is increased appetite, although the mechanism mediating this response is unknown.',\n",
       "       'How energy is consumed in gene expression is largely unknown mainly due to complexity of non-equilibrium mechanisms affecting expression levels.',\n",
       "       'However, the molecular mechanism of endosulfan induced neuronal alterations is still not well understood.',\n",
       "       'However, the mechanism of oxygen intercalation and associated rate-limiting step are still unclear on the molecular level.',\n",
       "       'The extent and the time scales of the orientational mobility of the organic cation and the molecular mechanism behind its motion remain unclear, with different experimental and computational approaches providing very different qualitative and quantitative description of the molecular dynamics.',\n",
       "       'Paradoxically, despite their key involvement, these groups of fungi are often treated as a black box, and their potential roles in the transformation of xenobiotics and catabolic pathways remain poorly understood.',\n",
       "       'Endothelial progenitor cells (EPCs) have been shown to enhance the recanalization of thrombosis, while leaving its molecular mechanism unclear.',\n",
       "       \"Though the pathological mechanism hasn't been fully understood, it is reported that both environmental and genetic factor may contribute to the PTC susceptibility.\",\n",
       "       'Hepatocellular carcinoma (HCC) is one of most common malignant tumors worldwide, but with unclear mechanisms.',\n",
       "       'The pathogenesis and the mechanism underlying neuropathic pain remains unclear.',\n",
       "       'Although many studies have been focused on the pathogenesis of vascular tumors in human, the specific mechanism of the vascular tumors was currently unclear.',\n",
       "       'The traditional Chinese medicinal berberine has long been used to treat cardiovascular diseases; however, the mechanism underlying its effects remains unclear.',\n",
       "       'However, the roles and molecular mechanisms of BTG2 in osteosarcoma progression are still unknown.',\n",
       "       'However, it has not been completely understood whether CXCL12 is involved in EMT of breast cancer cells and the underlying mechanisms.',\n",
       "       'However, the mechanism underlining doxorubicin-induced cardiomyocyte is still not fully understood.',\n",
       "       'Tubeimoside-1 (TBMS1) is a natural compound isolated from tubeimoside, which has anti-tumor properties in some cancer cells, but its mechanisms are unclear.',\n",
       "       'However, its underlining mechanism remains unclear.',\n",
       "       'However, the mechanisms that mediate the role of Twist1 in cervical cancer metastasis are poorly understood.',\n",
       "       'However, the role and molecular mechanism of WEE1 in the drug resistance of hepatic cancer remains unclear.',\n",
       "       'The brachyury gene was strongly associated with familial chordomas, however, the exact pathogenesis and genetics mechanisms remains unclear.',\n",
       "       'However, the mechanisms underlying the interaction between these two agents remain unclear.',\n",
       "       'However, the effects and the underlying mechanisms of miR-133b in the development of glioblastoma (GBM) remain largely unknown.',\n",
       "       'However, the detailed mechanisms underlying this disorder remain unclear.',\n",
       "       'Excess nitric oxide (NO) deregulates cholesterol metabolism in macrophage foam cells, yet the underlying molecular mechanism is incompletely understood.',\n",
       "       'The small GTPase Rac1 regulates diverse cellular functions, including both apicobasal and planar cell polarity pathways; however, its role in cardiac outflow tract (OFT) development remains unknown.',\n",
       "       'Metabolic heart disease manifests primarily as diastolic dysfunction but may progress to systolic dysfunction, although the mechanism is poorly understood.',\n",
       "       'The mechanisms underlying chromothripsis and their specific impact on tumorigenesis are still poorly understood, and further examination of a large number of identified chromothripsis samples is needed.',\n",
       "       'Itraconazole, a common anti-fungal agent and a potent inhibitor of the Hedgehog pathway, has been shown to be clinically effective for various types of cancers, but its clinical efficacy for EC is unknown.',\n",
       "       'However, the pathway between age and health outcomes in patients with HF remains unknown.',\n",
       "       'However, whether paeoniflorin can program conventional dendritic cells toward regulatory dendritic cells and the underlying mechanism remain unknown.',\n",
       "       'The biologic mechanisms leading to aneurysm healing or rare complications such as delayed aneurysm ruptures after flow-diverter placement remain poorly understood.',\n",
       "       'Despite the presence of TLRs in vascular cells, the exact mechanisms whereby TLR signaling affects the function of vascular tissues are largely unknown.',\n",
       "       \"Increasing evidence indicates that offspring metabolic disorders can result from the father's diet, but the mechanism remains unclear.\",\n",
       "       'Chronic acrylamide (ACR) exposure induces peripheral-central axonopathy in occupational workers and laboratory animals, but the underlying mechanisms remain unclear.',\n",
       "       'Clusters arise first dorsally and proximally and spread over the entire intestine within 24-hours, but the mechanism driving this pattern in the murine intestine is unknown.',\n",
       "       'However, the detailed mechanisms behind this phenomenon remain poorly understood.',\n",
       "       'This trafficking is often mediated by the Bardet-Biedl Syndrome complex (BBSome), a protein complex for which the precise subcellular distribution and mechanisms of action are unclear.',\n",
       "       'Atypical antipsychotic drugs have some efficacy in alleviating the negative and some cognitive symptoms of schizophrenia but those effects are small and mechanisms of this action are still unknown.',\n",
       "       'Chronic arsenic exposure malignantly transforms the human normal prostate stem/progenitor cell (SC) line, WPE-stem to arsenic-cancer SCs (As-CSCs), through unknown mechanisms.',\n",
       "       'They have been shown to be involved in sporulation, rapid freeze-thaw tolerance, osmo-sensitivity, and modulation of cell surface properties and colony morphology, although the underlying exact mechanisms are still unknown.',\n",
       "       'However, the underlying molecular mechanism is not completely understood.'], \n",
       "      dtype='<U373')"
      ]
     },
     "execution_count": 127,
     "metadata": {},
     "output_type": "execute_result"
    }
   ],
   "source": [
    "good_sent"
   ]
  },
  {
   "cell_type": "code",
   "execution_count": null,
   "metadata": {
    "collapsed": true
   },
   "outputs": [],
   "source": []
  }
 ],
 "metadata": {
  "kernelspec": {
   "display_name": "Python 3",
   "language": "python",
   "name": "python3"
  },
  "language_info": {
   "codemirror_mode": {
    "name": "ipython",
    "version": 3
   },
   "file_extension": ".py",
   "mimetype": "text/x-python",
   "name": "python",
   "nbconvert_exporter": "python",
   "pygments_lexer": "ipython3",
   "version": "3.4.3"
  }
 },
 "nbformat": 4,
 "nbformat_minor": 0
}
