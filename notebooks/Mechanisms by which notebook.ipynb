{
 "cells": [
  {
   "cell_type": "code",
   "execution_count": 57,
   "metadata": {
    "collapsed": true
   },
   "outputs": [],
   "source": [
    "import requests\n",
    "import re\n",
    "from xml.etree import ElementTree"
   ]
  },
  {
   "cell_type": "code",
   "execution_count": 126,
   "metadata": {
    "collapsed": false
   },
   "outputs": [],
   "source": [
    "base_url = 'http://eutils.ncbi.nlm.nih.gov/entrez/eutils/e{}.fcgi'\n",
    "pubmed_dict = {'db':'pubmed', 'retmode':'json', 'field':'abstract', \n",
    "              'term':'mechanism AND understood'}"
   ]
  },
  {
   "cell_type": "code",
   "execution_count": 127,
   "metadata": {
    "collapsed": false
   },
   "outputs": [],
   "source": [
    "pubmed_json = requests.get(base_url.format('search'), params=pubmed_dict).json()"
   ]
  },
  {
   "cell_type": "code",
   "execution_count": 132,
   "metadata": {
    "collapsed": false
   },
   "outputs": [
    {
     "data": {
      "text/plain": [
       "['26731018', '26730599', '26729476']"
      ]
     },
     "execution_count": 132,
     "metadata": {},
     "output_type": "execute_result"
    }
   ],
   "source": [
    "pubmed_ids = pubmed_json['esearchresult']['idlist']\n",
    "pubmed_ids[:3]"
   ]
  },
  {
   "cell_type": "code",
   "execution_count": 133,
   "metadata": {
    "collapsed": false
   },
   "outputs": [],
   "source": [
    "#abstract_dict = {'db':'pubmed', 'retmode':'text', # only return mode option is text\n",
    "#                 'rettype':'abstract',\n",
    "#              'id':pubmed_ids}\n",
    "abstract_dict = {'db':'pubmed', 'retmode':'xml', # only return mode option is text\n",
    "              'id':','.join(pubmed_ids)}\n",
    "pubmed_xml = requests.get(base_url.format('fetch'), params=abstract_dict)"
   ]
  },
  {
   "cell_type": "markdown",
   "metadata": {},
   "source": [
    "Pubmed returns an XML. It is structured PubmedArticleList / PubmedArticle / MedlineCitation. MedlineCitation has children: PMID, and Article\n",
    "\n",
    "Article has children: Journal, ArticleTitle, and Abstract\n",
    "\n",
    "Abstract has child: AbstractText"
   ]
  },
  {
   "cell_type": "code",
   "execution_count": 134,
   "metadata": {
    "collapsed": false
   },
   "outputs": [],
   "source": [
    "pubmed_tree = ElementTree.fromstring(pubmed_xml.text)"
   ]
  },
  {
   "cell_type": "code",
   "execution_count": 135,
   "metadata": {
    "collapsed": false
   },
   "outputs": [
    {
     "data": {
      "text/plain": [
       "\"HSP90 (Heat shock protein 90) is a molecular chaperone protein ubiquitously expressed throughout all tissues in the body. HSP90 has been proposed as a target to increase turnover of pathological proteins leading to neurodegeneration in Huntington's disease, Parkinson's disease and Alzheimer's disease. The mechanism of how HSP90 inhibition leads to clearance of misfolded proteins is not fully understood. It may involve direct effects of inhibiting ATPase function, indirect effects by inducing the heat-shock-response resulting in upregulation of other chaperone proteins like HSP70 or a combination of both. In the current work we established a methodology to investigate the relationship between HSP90 target occupancy and HSP70 induction in vivo. We also characterized the acute effect of two different HSP90 inhibitors in the rTg4510 transgenic mouse model of Alzheimer's disease which displays a tau-mediated synaptic dysfunction. We show that reversal of synaptic impairments in this model can be obtained with a compound which has a high HSP70 induction capacity. The current developed assay methodologies may thus be of significant use in the further elucidation of the mechanism involved in the in vivo effect of HSP90 inhibition in models of neurodegeneration. Further on, the ability of HSP90 inhibitors to normalize synaptic dysfunction in an in vivo disease model of Alzheimer's disease could have therapeutic relevance and further strengthens the usefulness of this animal model to establish pharmacodynamic effect of HSP90 inhibition.\""
      ]
     },
     "execution_count": 135,
     "metadata": {},
     "output_type": "execute_result"
    }
   ],
   "source": [
    "abstracts = [ abstract.text for abstract in pubmed_tree.findall('./PubmedArticle/MedlineCitation/Article/Abstract/AbstractText')]\n",
    "abstracts[0]"
   ]
  },
  {
   "cell_type": "code",
   "execution_count": 166,
   "metadata": {
    "collapsed": false
   },
   "outputs": [
    {
     "data": {
      "text/plain": [
       "[['The mechanism of how HSP90 inhibition leads to clearance of misfolded proteins is not fully understood.',\n",
       "  'The current developed assay methodologies may thus be of significant use in the further elucidation of the mechanism involved in the in vivo effect of HSP90 inhibition in models of neurodegeneration.'],\n",
       " ['The mechanism by which CT infection enhances HIV susceptibility at this site, however, is not well understood.',\n",
       "  'Our studies provide a mechanism by which this common STI could potentially promote the establishment of founder virus populations and the maintenance of local HIV reservoirs in the endocervix.'],\n",
       " ['However, the mechanism of beta-amyloid clearance along peri-arterial pathways in the brain is not well understood.',\n",
       "  'this study, we investigate a transport mechanism in the arterial basement membrane consisting of forward-propagating waves and their reflections.'],\n",
       " ['However, the molecular mechanism by which resistin acts is not fully understood.'],\n",
       " ['This resistance is often encoded on mobile plasmids such as pSK41; however, the mechanism of transfer of these plasmids is not well understood.',\n",
       "  'These data indicate that the conjugative relaxase-in trans mechanism recently described for the pWBG749 family of plasmids also applies to the pSK41 family of plasmids, further heightening the potential significance of this mechanism in the horizontal transfer of staphylococcal plasmids.'],\n",
       " ['the mechanism of antimicrobial resistance transfer in bacteria such as Staphylococcus aureus is an important step toward potentially slowing the spread of antimicrobial resistant infections.'],\n",
       " ['Bacterial Nav channels have been characterized as functionally asymmetric, and the mechanism of this asymmetry has not been clearly understood.',\n",
       "  'This approach provided new insight into the mechanism of selective ion permeation in bacterial Nav channels.',\n",
       "  'In contrast to K+, three Na+ ions move favorably through the selectivity filter together as a unit in a loose \"knock-on\" mechanism of permeation in both inward and outward directions, and there is no similar local minimum in the two-dimensional free-energy landscape of two Na+ ions for a block state.'],\n",
       " ['However, the mechanism underlying the explosive evolution of hundreds of varieties of B.'],\n",
       " ['The effect of ibuprofen to decrease the HVR in humans provides the first experimental evidence that a signaling mechanism described for ventilatory acclimatization to hypoxia in animal models also occurs in people.'],\n",
       " ['Although the precise mechanism of IM-GAVE is not understood, all patients took at least 400 mg/day of IM at the onset of GAVE.'],\n",
       " ['mismatch repair (MMR) is a surveillance mechanism present in most living organisms, which repairs errors introduced by DNA polymerases.'],\n",
       " ['This study explored the possible molecular mechanism of some ESCC cells insensitive to rapamycin and provided a measure for treating ESCC patients with PTEN inactivation using mTOR inhibitors.'],\n",
       " ['To understand the coupling between PtdIns(4,5)P2 hydrolysis and endosome formation, a key issue is thus to unravel the mechanism by which OCRL is recruited on CCVs precisely after their scission from the plasma membrane.'],\n",
       " ['Therefore, we concluded that TAL1 upregulation, preventing the accumulation of sedoheptulose, is the most critical mechanism for the improved xylose metabolism by the pho13Δ mutant of engineered S.'],\n",
       " [],\n",
       " [],\n",
       " [],\n",
       " ['progestin-only contraceptive use and high endogenous progesterone are both associated with increased frequency of activated HIV targets cells at the cervix, the site of initial HIV entry in most women, providing a possible biological mechanism underlying increased HIV acquisition in women with high progestin exposure.'],\n",
       " [],\n",
       " ['Here, we identified a novel mechanism whereby TNF-α, suppressing Semaphorin3B expression contributes to estrogen deficiency-induced osteoporosis.'],\n",
       " ['This effect may result both from a direct mechanism affecting synaptic building and plasticity and indirectly as a consequence of vascular insults.'],\n",
       " ['However, the molecular mechanism of endosulfan induced neuronal alterations is still not well understood.',\n",
       "  'The present study attempted to explore the possible molecular mechanism of endosulfan induced neuronal alterations in SH-SY5Y cells using an integrated genomic and proteomic approach.'],\n",
       " [\"Though the pathological mechanism hasn't been fully understood, it is reported that both environmental and genetic factor may contribute to the PTC susceptibility.\"],\n",
       " [],\n",
       " [],\n",
       " [],\n",
       " ['However, the mechanism underlining doxorubicin-induced cardiomyocyte is still not fully understood.'],\n",
       " ['nitric oxide (NO) deregulates cholesterol metabolism in macrophage foam cells, yet the underlying molecular mechanism is incompletely understood.']]"
      ]
     },
     "execution_count": 166,
     "metadata": {},
     "output_type": "execute_result"
    }
   ],
   "source": [
    "list(map(lambda x: re.findall('. ([^.]*mechanism [^.]*.)', x), abstracts))"
   ]
  },
  {
   "cell_type": "code",
   "execution_count": 167,
   "metadata": {
    "collapsed": false
   },
   "outputs": [
    {
     "data": {
      "text/plain": [
       "'Excess nitric oxide (NO) deregulates cholesterol metabolism in macrophage foam cells, yet the underlying molecular mechanism is incompletely understood. To investigate the mechanism, we found that in macrophages, treatment with NO donors S-nitroso-N-acetyl-D,L-penicillamine (SNAP) or diethylenetriamine/nitric oxide induced LXRα degradation and reduced the expression of the downstream target of LXRα, ATP-binding cassette transporter A1 (ABCA1), and cholesterol efflux. In addition, SNAP induced calcium (Ca(2+)) influx into cells, increased calpain activity and promoted the formation of calpain-LXRα complex. Pharmacological inhibition of calpain activity reversed the SNAP-induced degradation of LXRα, down-regulation of ABCA1 and impairment of cholesterol efflux in macrophages. SNAP increased the formation of calpain-LXRα complex in a Pro-Glu-Ser-Thr (PEST) motif-dependent manner. Truncation of the PEST motif in LXRα abolished the calpain-dependent proteolysis. Removal of extracellular Ca(2+) by EGTA or pharmacological inhibition of TRPV1 channel activity diminished SNAP-induced increase in intracellular Ca(2+), calpain activation, LXRα degradation, ABCA1 down-regulation and impaired cholesterol efflux. In conclusion, excess NO may activate calpain via TRPV1-Ca(2+) signaling and promote the recognition of calpain in the PEST motif of LXRα, thereby leading to degradation of LXRα and, ultimately, downregulated ABCA1 expression and impaired ABCA1-dependent cholesterol efflux in macrophages.'"
      ]
     },
     "execution_count": 167,
     "metadata": {},
     "output_type": "execute_result"
    }
   ],
   "source": [
    "abstracts[-1]"
   ]
  },
  {
   "cell_type": "code",
   "execution_count": null,
   "metadata": {
    "collapsed": true
   },
   "outputs": [],
   "source": []
  }
 ],
 "metadata": {
  "kernelspec": {
   "display_name": "Python 3",
   "language": "python",
   "name": "python3"
  },
  "language_info": {
   "codemirror_mode": {
    "name": "ipython",
    "version": 3
   },
   "file_extension": ".py",
   "mimetype": "text/x-python",
   "name": "python",
   "nbconvert_exporter": "python",
   "pygments_lexer": "ipython3",
   "version": "3.4.3"
  }
 },
 "nbformat": 4,
 "nbformat_minor": 0
}
